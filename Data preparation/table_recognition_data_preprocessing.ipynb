{
  "nbformat": 4,
  "nbformat_minor": 0,
  "metadata": {
    "colab": {
      "name": "table recognition data_preprocessing",
      "provenance": [],
      "collapsed_sections": [
        "R3oPISZi9R8q",
        "iwU-67ayrLOO"
      ]
    },
    "kernelspec": {
      "name": "python3",
      "display_name": "Python 3"
    }
  },
  "cells": [
    {
      "cell_type": "code",
      "metadata": {
        "id": "_KnqZANo9gan",
        "colab": {
          "base_uri": "https://localhost:8080/",
          "height": 139
        },
        "outputId": "3fe9854f-4019-4db9-9e9b-30bc956e04ad"
      },
      "source": [
        "from google.colab import drive\n",
        "drive.mount('/content/drive')\n",
        "\n",
        "import os, json\n",
        "os.chdir('/content/drive/My Drive/NRP 2020/')\n",
        "print(os.getcwd())"
      ],
      "execution_count": null,
      "outputs": [
        {
          "output_type": "stream",
          "text": [
            "Go to this URL in a browser: https://accounts.google.com/o/oauth2/auth?client_id=947318989803-6bn6qk8qdgf4n4g3pfee6491hc0brc4i.apps.googleusercontent.com&redirect_uri=urn%3aietf%3awg%3aoauth%3a2.0%3aoob&response_type=code&scope=email%20https%3a%2f%2fwww.googleapis.com%2fauth%2fdocs.test%20https%3a%2f%2fwww.googleapis.com%2fauth%2fdrive%20https%3a%2f%2fwww.googleapis.com%2fauth%2fdrive.photos.readonly%20https%3a%2f%2fwww.googleapis.com%2fauth%2fpeopleapi.readonly\n",
            "\n",
            "Enter your authorization code:\n",
            "··········\n",
            "Mounted at /content/drive\n",
            "/content/drive/.shortcut-targets-by-id/1CqlR2wQDEuX_zgONX3N_3PuSOHWOblsA/NRP 2020\n"
          ],
          "name": "stdout"
        }
      ]
    },
    {
      "cell_type": "code",
      "metadata": {
        "id": "1jQdq9HinqTf"
      },
      "source": [
        "#used to test if the bounding boxes are interpreted correctly...\n",
        "\n",
        "from skimage import io\n",
        "import cv2\n",
        "import matplotlib.pyplot as plt\n",
        "from numpy import array\n",
        "def plot_bbox(img_url,boxes):#boxes is a list of [x1,y1,x2,y2]\n",
        "  img = io.imread(img_url)\n",
        "  if len(img.shape)==2:#greyscale image...\n",
        "    full=[]\n",
        "    for i in range(len(img)):\n",
        "      row=[]\n",
        "      for j in range(len(img[i])):\n",
        "        row.append((img[i,j],img[i,j],img[i,j]))\n",
        "      full.append(row)\n",
        "    img=array(full)\n",
        "  #height, width, channel = img.shape\n",
        "  print(f\"Image: {img.shape}\")\n",
        "  for (xmin,ymin,xmax,ymax) in boxes:\n",
        "      class_name='Table'\n",
        "      print(f\"Coordinates: {xmin,ymin}, {xmax,ymax}\")\n",
        "      cv2.rectangle(img, (xmin,ymin), (xmax,ymax), (255,0,0), 5)\n",
        "      font = cv2.FONT_HERSHEY_SIMPLEX\n",
        "      cv2.putText(img, class_name, (xmin,ymin-10), font, 3, (0,255,0), 5)\n",
        "  plt.figure(figsize=(15,10))\n",
        "  plt.title('Image with Bounding Box')\n",
        "  plt.imshow(img)\n",
        "  plt.axis(\"off\")\n",
        "  plt.show()"
      ],
      "execution_count": null,
      "outputs": []
    },
    {
      "cell_type": "markdown",
      "metadata": {
        "id": "R3oPISZi9R8q"
      },
      "source": [
        "# ICDAR 2013"
      ]
    },
    {
      "cell_type": "code",
      "metadata": {
        "id": "3cfp2KKQ9bcj"
      },
      "source": [
        "f=open('/content/drive/My Drive/AI/Faster_RCNN/table_annotation.txt','w')\n",
        "\n",
        "icdar_2013_gt='/content/drive/My Drive/NRP 2020/modified/table_detection/icdar2013_gt_jpg'\n",
        "icdar_2013_img='/content/drive/My Drive/NRP 2020/modified/table_detection/icdar2013_images'\n",
        "\n",
        "for region in ['us','eu']:\n",
        "  imgs=os.listdir(icdar_2013_img+'/training/'+region)\n",
        "  labels=os.listdir(icdar_2013_gt+'/training/'+region)\n",
        "  for i in labels:\n",
        "    image=i[:-9]+'.jpg'\n",
        "    file=open('/'.join([icdar_2013_gt,'training',region,i]))\n",
        "    data=json.load(file)\n",
        "    file.close()\n",
        "\n",
        "    for table in data:\n",
        "      #plot_bbox('/'.join([icdar_2013_img,'training',region,image]),[[table['x1'],table['y1'],table['x2'],table['y2']]])\n",
        "      for key in table:\n",
        "        table[key]=str(table[key])\n",
        "      f.write('/'.join([icdar_2013_img,'training',region,image])+',')\n",
        "      f.write(','.join([table['x1'],table['y1'],table['x2'],table['y2'] ]) )\n",
        "      f.write(',Table\\n')\n",
        "\n",
        "f.close()"
      ],
      "execution_count": null,
      "outputs": []
    },
    {
      "cell_type": "code",
      "metadata": {
        "id": "z7m1C5efW78f",
        "colab": {
          "base_uri": "https://localhost:8080/",
          "height": 34
        },
        "outputId": "a6fde6da-dd79-41a4-ef80-2e91e30f8e1d"
      },
      "source": [
        "f=open('/content/drive/My Drive/AI/Faster_RCNN/table_annotation_test_with_icdar2013.txt','w')\n",
        "\n",
        "icdar_2013_gt='/content/drive/My Drive/NRP 2020/modified/table_detection/icdar2013_gt_jpg'\n",
        "icdar_2013_img='/content/drive/My Drive/NRP 2020/modified/table_detection/icdar2013_images'\n",
        "\n",
        "for region in ['us','eu']:\n",
        "  imgs=os.listdir(icdar_2013_img+'/eval/'+region)\n",
        "  labels=os.listdir(icdar_2013_gt+'/eval/'+region)\n",
        "  labels.sort()\n",
        "  for i in labels:\n",
        "    image=i[:-9]+'.jpg'\n",
        "    file=open('/'.join([icdar_2013_gt,'eval',region,i]))\n",
        "    data=json.load(file)\n",
        "    file.close()\n",
        "  \n",
        "    for table in data:\n",
        "      for key in table:\n",
        "        table[key]=str(table[key])\n",
        "      f.write('/'.join([icdar_2013_img,'eval',region,image])+',')\n",
        "      f.write(','.join([table['x1'],table['y1'],table['x2'],table['y2'] ]) )\n",
        "      f.write(',Table\\n')\n",
        "\n",
        "f.close()\n",
        "\n",
        "print('ok')"
      ],
      "execution_count": null,
      "outputs": [
        {
          "output_type": "stream",
          "text": [
            "ok\n"
          ],
          "name": "stdout"
        }
      ]
    },
    {
      "cell_type": "markdown",
      "metadata": {
        "id": "iwU-67ayrLOO"
      },
      "source": [
        "#ICDAR 2019"
      ]
    },
    {
      "cell_type": "code",
      "metadata": {
        "id": "mfkKTr_hrI2X"
      },
      "source": [
        "from xml.dom import minidom\n",
        "\n",
        "#training\n",
        "\n",
        "f=open('/content/drive/My Drive/AI/Faster_RCNN/table_annotation_with_icdar2019.txt','a')\n",
        "\n",
        "icdar_2019_dir='/content/drive/My Drive/NRP 2020/original/ICDAR2019_cTDaR-master/training'\n",
        "\n",
        "cnt=0\n",
        "for img_type in ['TRACKA']:#ignore trackB1, since it's for structure recognition purposes...\n",
        "  cur_path=icdar_2019_dir+'/'+img_type+'/ground_truth'\n",
        "  files=os.listdir(cur_path)\n",
        "  files.sort()\n",
        "  for i in range(len(files)//2):#.jpg comes before .xml\n",
        "    img_path='/'.join([cur_path,files[i*2]])\n",
        "    doc=minidom.parse('/'.join([cur_path,files[i*2 +1]] ) )\n",
        "\n",
        "    coords_elements=doc.getElementsByTagName('Coords')\n",
        "    for element in coords_elements:\n",
        "      coords=(element.attributes['points'].value).split(' ')\n",
        "      xx=[]\n",
        "      yy=[]\n",
        "      for i in range(4):#each coord...\n",
        "        coords[i]=[int(number) for number in coords[i].split(',')]\n",
        "        xx.append(coords[i][0])\n",
        "        yy.append(coords[i][1])\n",
        "      xmin=min(xx)\n",
        "      xmax=max(xx)\n",
        "      ymin=min(yy)\n",
        "      ymax=max(yy)\n",
        "\n",
        "      points=[xmin,ymin,xmax,ymax ]\n",
        "      str_points=[str(num) for num in points]\n",
        "      f.write(img_path+',')\n",
        "      f.write(','.join(str_points) )\n",
        "      f.write(',Table\\n')\n",
        "      \n",
        "      '''cnt+=1\n",
        "      plot_bbox(img_path,[points])\n",
        "      if cnt>5:\n",
        "        raise Exception('nah')'''\n",
        "\n",
        "f.close()"
      ],
      "execution_count": null,
      "outputs": []
    },
    {
      "cell_type": "code",
      "metadata": {
        "id": "47egqmykKudm"
      },
      "source": [
        "from xml.dom import minidom\n",
        "\n",
        "#testing\n",
        "\n",
        "f=open('/content/drive/My Drive/AI/Faster_RCNN/table_annotation_test_with_icdar2019.txt','w')\n",
        "\n",
        "icdar_2019_img='/content/drive/My Drive/NRP 2020/original/ICDAR2019_cTDaR-master/test/TRACKA'#a is for table recognition, b1 for structure recognition, b2 for combined\n",
        "icdar_2019_gt='/content/drive/My Drive/NRP 2020/original/ICDAR2019_cTDaR-master/test_ground_truth/'\n",
        "\n",
        "cnt=0\n",
        "for img_type in ['TRACKA']:#ignore trackB1, since it's for structure recognition purposes...\n",
        "  cur_path=icdar_2019_gt+'/'+img_type\n",
        "  files=os.listdir(cur_path)\n",
        "  files.sort()\n",
        "  for file in files:#iterate through .xml files since they mention the jpg file anyway\n",
        "    doc=minidom.parse('/'.join([cur_path,file] ) )\n",
        "    img_file=doc.getElementsByTagName('document')[0].attributes['filename'].value\n",
        "    img_path='/'.join([icdar_2019_img,img_file])\n",
        "\n",
        "    coords_elements=doc.getElementsByTagName('Coords')\n",
        "    for element in coords_elements:\n",
        "      coords=(element.attributes['points'].value).split(' ')\n",
        "      xx=[]\n",
        "      yy=[]\n",
        "      for i in range(4):#each coord...\n",
        "        coords[i]=[int(number) for number in coords[i].split(',')]\n",
        "        xx.append(coords[i][0])\n",
        "        yy.append(coords[i][1])\n",
        "      xmin=min(xx)\n",
        "      xmax=max(xx)\n",
        "      ymin=min(yy)\n",
        "      ymax=max(yy)\n",
        "\n",
        "      points=[xmin,ymin,xmax,ymax ]\n",
        "      str_points=[str(num) for num in points]\n",
        "      f.write(img_path+',')\n",
        "      f.write(','.join(str_points) )\n",
        "      f.write(',Table\\n')\n",
        "      \n",
        "      '''cnt+=1\n",
        "      plot_bbox(img_path,[points])\n",
        "      if cnt>5:\n",
        "        raise Exception('nah')'''\n",
        "\n",
        "f.close()"
      ],
      "execution_count": null,
      "outputs": []
    },
    {
      "cell_type": "markdown",
      "metadata": {
        "id": "OPTC9LYsBEG1"
      },
      "source": [
        "# UNLV"
      ]
    },
    {
      "cell_type": "code",
      "metadata": {
        "id": "Ajihi9ENBHCh"
      },
      "source": [
        "#training\n",
        "\n",
        "f=open('/content/drive/My Drive/AI/Faster_RCNN/table_annotation_with_unlv.txt','a')\n",
        "\n",
        "cur_dir='/content/drive/My Drive/NRP 2020/original/UNLV/table_data'\n",
        "\n",
        "csv=open('/'.join([cur_dir,'train.csv']),'r')\n",
        "lines=csv.readlines()\n",
        "csv.close()\n",
        "\n",
        "lines.sort()\n",
        "\n",
        "cnt=0\n",
        "for line in lines:\n",
        "  data=line.split(',')\n",
        "  points=data[1:5]\n",
        "  f.write('/'.join([cur_dir,'images',data[0]])+',')#filename,x1,y1,x2,y2,table\n",
        "  f.write(','.join(points) )\n",
        "  f.write(',Table\\n')\n",
        "\n",
        "  points= [int(point) for point in points]\n",
        "  '''plot_bbox('/'.join([cur_dir,'images',data[0]]),[points]  )\n",
        "  cnt+=1\n",
        "  if cnt>=5:\n",
        "    break'''\n",
        "\n",
        "f.close()"
      ],
      "execution_count": null,
      "outputs": []
    },
    {
      "cell_type": "code",
      "metadata": {
        "id": "kOC7ytlXnoPQ"
      },
      "source": [
        "#validation\n",
        "\n",
        "f=open('/content/drive/My Drive/AI/Faster_RCNN/table_annotation_test_with_unlv.txt','w')\n",
        "\n",
        "cur_dir='/content/drive/My Drive/NRP 2020/original/UNLV/table_data'\n",
        "\n",
        "csv=open('/'.join([cur_dir,'val.csv']),'r')\n",
        "lines=csv.readlines()\n",
        "csv.close()\n",
        "\n",
        "lines.sort()\n",
        "\n",
        "cnt=0\n",
        "for line in lines:\n",
        "  data=line.split(',')\n",
        "  points=data[1:5]\n",
        "  f.write('/'.join([cur_dir,'images',data[0]])+',')#filename,x1,y1,x2,y2,table\n",
        "  f.write(','.join(points) )\n",
        "  f.write(',Table\\n')\n",
        "\n",
        "  points= [int(point) for point in points]\n",
        "  '''plot_bbox('/'.join([cur_dir,'images',data[0]]),[points]  )\n",
        "  cnt+=1\n",
        "  if cnt>=5:\n",
        "    break'''\n",
        "\n",
        "f.close()"
      ],
      "execution_count": null,
      "outputs": []
    },
    {
      "cell_type": "markdown",
      "metadata": {
        "id": "ww8xrY_tiXhG"
      },
      "source": [
        "# Testing purposes..."
      ]
    },
    {
      "cell_type": "code",
      "metadata": {
        "id": "XKZqd1tKe1RE",
        "colab": {
          "base_uri": "https://localhost:8080/",
          "height": 34
        },
        "outputId": "3e76e41e-5f28-45bb-8c4c-6a96598bc3e6"
      },
      "source": [
        "# f=open('/content/drive/My Drive/AI/Faster_RCNN/table_annotation_test_with_unlv.txt','r')\n",
        "# print(len(f.readlines()))\n",
        "# f.close()"
      ],
      "execution_count": null,
      "outputs": [
        {
          "output_type": "stream",
          "text": [
            "971\n"
          ],
          "name": "stdout"
        }
      ]
    },
    {
      "cell_type": "code",
      "metadata": {
        "id": "5q4TFqYDlIsW",
        "colab": {
          "base_uri": "https://localhost:8080/",
          "height": 286
        },
        "outputId": "04e0bad1-1d46-443c-db73-e76eec39c2d1"
      },
      "source": [
        "# img = io.imread('/content/drive/My Drive/NRP 2020/original/UNLV/table_data/images/0147_125.png')\n",
        "\n",
        "# full=[]\n",
        "# for i in range(len(img)):\n",
        "#   row=[]\n",
        "#   for j in range(len(img[i])):\n",
        "#     row.append((img[i,j],img[i,j],img[i,j]))\n",
        "#   full.append(row)\n",
        "\n",
        "# img=array(full)\n",
        "\n",
        "# print(len(img),len(img[0]))\n",
        "\n",
        "# plt.imshow(img)\n",
        "# plt.show()"
      ],
      "execution_count": null,
      "outputs": [
        {
          "output_type": "stream",
          "text": [
            "3300 2560\n"
          ],
          "name": "stdout"
        },
        {
          "output_type": "display_data",
          "data": {
            "image/png": "[encoded data removed]",
            "text/plain": [
              "<Figure size 432x288 with 1 Axes>"
            ]
          },
          "metadata": {
            "tags": [],
            "needs_background": "light"
          }
        }
      ]
    }
  ]
}